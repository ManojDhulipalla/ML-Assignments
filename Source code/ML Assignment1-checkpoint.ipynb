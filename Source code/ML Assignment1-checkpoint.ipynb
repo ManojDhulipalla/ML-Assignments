{
 "cells": [
  {
   "cell_type": "code",
   "execution_count": 262,
   "id": "9f1d2971",
   "metadata": {},
   "outputs": [
    {
     "data": {
      "text/plain": [
       "[19, 22, 19, 24, 20, 25, 26, 24, 25, 24]"
      ]
     },
     "execution_count": 262,
     "metadata": {},
     "output_type": "execute_result"
    }
   ],
   "source": [
    "#Defining a list of 10 students ages\n",
    "ages = [19,22,19,24,20,25,26,24,25,24]\n",
    "ages"
   ]
  },
  {
   "cell_type": "code",
   "execution_count": 263,
   "id": "b03130fd",
   "metadata": {},
   "outputs": [],
   "source": [
    "#Sorting the list\n",
    "ages.sort()"
   ]
  },
  {
   "cell_type": "code",
   "execution_count": 264,
   "id": "06da88b5",
   "metadata": {},
   "outputs": [
    {
     "data": {
      "text/plain": [
       "[19, 19, 20, 22, 24, 24, 24, 25, 25, 26]"
      ]
     },
     "execution_count": 264,
     "metadata": {},
     "output_type": "execute_result"
    }
   ],
   "source": [
    "ages"
   ]
  },
  {
   "cell_type": "code",
   "execution_count": 265,
   "id": "febb35bc",
   "metadata": {},
   "outputs": [
    {
     "data": {
      "text/plain": [
       "19"
      ]
     },
     "execution_count": 265,
     "metadata": {},
     "output_type": "execute_result"
    }
   ],
   "source": [
    "#Finding minimum of age\n",
    "Minimum = min(ages)\n",
    "Minimum"
   ]
  },
  {
   "cell_type": "code",
   "execution_count": 266,
   "id": "0f6277cc",
   "metadata": {},
   "outputs": [
    {
     "data": {
      "text/plain": [
       "26"
      ]
     },
     "execution_count": 266,
     "metadata": {},
     "output_type": "execute_result"
    }
   ],
   "source": [
    "#Finding Maximum of age\n",
    "Maximum = max(ages)\n",
    "Maximum"
   ]
  },
  {
   "cell_type": "code",
   "execution_count": 267,
   "id": "66d203e6",
   "metadata": {},
   "outputs": [
    {
     "data": {
      "text/plain": [
       "[19, 19, 20, 22, 24, 24, 24, 25, 25, 26, 19, 26]"
      ]
     },
     "execution_count": 267,
     "metadata": {},
     "output_type": "execute_result"
    }
   ],
   "source": [
    "#Adding Min and Max age again to the list ages\n",
    "ages.append(Minimum)\n",
    "ages.append(Maximum)\n",
    "ages"
   ]
  },
  {
   "cell_type": "code",
   "execution_count": 268,
   "id": "d8ea8242",
   "metadata": {},
   "outputs": [
    {
     "data": {
      "text/plain": [
       "12"
      ]
     },
     "execution_count": 268,
     "metadata": {},
     "output_type": "execute_result"
    }
   ],
   "source": [
    "#Median Age \n",
    "L = len(ages) #Calculating Length of the list ages\n",
    "L"
   ]
  },
  {
   "cell_type": "code",
   "execution_count": 269,
   "id": "3da296ea",
   "metadata": {},
   "outputs": [
    {
     "data": {
      "text/plain": [
       "24.0"
      ]
     },
     "execution_count": 269,
     "metadata": {},
     "output_type": "execute_result"
    }
   ],
   "source": [
    "#No of values in a list are even then median will be average of the two mid values of a list\n",
    "A = int(L/2 -1) #A be the predecessor to the mid value in a list because list Index starts at 0\n",
    "B = int(L/2) #B be the mid value in a list at Index 6\n",
    "Median = (ages[A]+ages[B])/2\n",
    "Median"
   ]
  },
  {
   "cell_type": "code",
   "execution_count": 270,
   "id": "f619f372",
   "metadata": {},
   "outputs": [
    {
     "data": {
      "text/plain": [
       "22.75"
      ]
     },
     "execution_count": 270,
     "metadata": {},
     "output_type": "execute_result"
    }
   ],
   "source": [
    "#Average of List ages\n",
    "S = sum(ages) #S be the Sum of all ages in a list ages\n",
    "L = len(ages) #L be the length of the list\n",
    "Average = S/L #Average can be calculated by sum of the values divided by Total no of Values in a list\n",
    "Average"
   ]
  },
  {
   "cell_type": "code",
   "execution_count": 271,
   "id": "43e438a7",
   "metadata": {},
   "outputs": [
    {
     "data": {
      "text/plain": [
       "7"
      ]
     },
     "execution_count": 271,
     "metadata": {},
     "output_type": "execute_result"
    }
   ],
   "source": [
    "#Finding range of the ages\n",
    "Maximum = max(ages)\n",
    "Minimum = min(ages)\n",
    "Range = Maximum - Minimum #Range means difference between maximum and minimum values in a list\n",
    "Range"
   ]
  },
  {
   "cell_type": "code",
   "execution_count": null,
   "id": "44dbc127",
   "metadata": {},
   "outputs": [],
   "source": []
  },
  {
   "cell_type": "code",
   "execution_count": 272,
   "id": "4e18c376",
   "metadata": {},
   "outputs": [
    {
     "data": {
      "text/plain": [
       "{}"
      ]
     },
     "execution_count": 272,
     "metadata": {},
     "output_type": "execute_result"
    }
   ],
   "source": [
    "#Creating a Empty Dictionary\n",
    "Dog = {}\n",
    "Dog"
   ]
  },
  {
   "cell_type": "code",
   "execution_count": 273,
   "id": "9af542da",
   "metadata": {},
   "outputs": [
    {
     "data": {
      "text/plain": [
       "{'name': 'ABC', 'breed': 'DEF', 'legs': 4, 'age': 15}"
      ]
     },
     "execution_count": 273,
     "metadata": {},
     "output_type": "execute_result"
    }
   ],
   "source": [
    "#Appending values to a Dog Dictionary\n",
    "Dog.update({\"name\" :\"ABC\", \"breed\" :\"DEF\", \"legs\" : 4, \"age\" : 15})\n",
    "Dog"
   ]
  },
  {
   "cell_type": "code",
   "execution_count": 274,
   "id": "6497cd80",
   "metadata": {},
   "outputs": [
    {
     "data": {
      "text/plain": [
       "{'first_name': '',\n",
       " 'last_name': '',\n",
       " 'gender': '',\n",
       " 'age': '',\n",
       " 'marital status': '',\n",
       " 'skills': [],\n",
       " 'country': '',\n",
       " 'city': '',\n",
       " 'address': ''}"
      ]
     },
     "execution_count": 274,
     "metadata": {},
     "output_type": "execute_result"
    }
   ],
   "source": [
    "#Creating a Student Dictionary\n",
    "Student = {\"first_name\" : \"\", \"last_name\" : \"\",\"gender\": \"\", \"age\": \"\", \"marital status\": \"\", \"skills\":[], \"country\": \"\", \"city\":\"\", \"address\": \"\"}\n",
    "Student"
   ]
  },
  {
   "cell_type": "code",
   "execution_count": 275,
   "id": "279ce2d9",
   "metadata": {},
   "outputs": [
    {
     "data": {
      "text/plain": [
       "9"
      ]
     },
     "execution_count": 275,
     "metadata": {},
     "output_type": "execute_result"
    }
   ],
   "source": [
    "#Length of Student Dictionary\n",
    "len(Student)"
   ]
  },
  {
   "cell_type": "code",
   "execution_count": 276,
   "id": "d0b0e3cd",
   "metadata": {},
   "outputs": [
    {
     "data": {
      "text/plain": [
       "[]"
      ]
     },
     "execution_count": 276,
     "metadata": {},
     "output_type": "execute_result"
    }
   ],
   "source": [
    "#Print values of Skills\n",
    "S = Student['skills']\n",
    "S"
   ]
  },
  {
   "cell_type": "code",
   "execution_count": 277,
   "id": "1c3dea84",
   "metadata": {},
   "outputs": [
    {
     "data": {
      "text/plain": [
       "list"
      ]
     },
     "execution_count": 277,
     "metadata": {},
     "output_type": "execute_result"
    }
   ],
   "source": [
    "type(S)"
   ]
  },
  {
   "cell_type": "code",
   "execution_count": 278,
   "id": "70b48b99",
   "metadata": {},
   "outputs": [
    {
     "data": {
      "text/plain": [
       "['Python', 'ML']"
      ]
     },
     "execution_count": 278,
     "metadata": {},
     "output_type": "execute_result"
    }
   ],
   "source": [
    "#Modifying skill values\n",
    "Student[\"skills\"] = (['Python','ML'])\n",
    "Student['skills']"
   ]
  },
  {
   "cell_type": "code",
   "execution_count": 279,
   "id": "c9659e52",
   "metadata": {},
   "outputs": [
    {
     "data": {
      "text/plain": [
       "{'first_name': '',\n",
       " 'last_name': '',\n",
       " 'gender': '',\n",
       " 'age': '',\n",
       " 'marital status': '',\n",
       " 'skills': ['Python', 'ML'],\n",
       " 'country': '',\n",
       " 'city': '',\n",
       " 'address': ''}"
      ]
     },
     "execution_count": 279,
     "metadata": {},
     "output_type": "execute_result"
    }
   ],
   "source": [
    "Student"
   ]
  },
  {
   "cell_type": "code",
   "execution_count": 280,
   "id": "a43e4f20",
   "metadata": {},
   "outputs": [
    {
     "data": {
      "text/plain": [
       "dict_keys(['first_name', 'last_name', 'gender', 'age', 'marital status', 'skills', 'country', 'city', 'address'])"
      ]
     },
     "execution_count": 280,
     "metadata": {},
     "output_type": "execute_result"
    }
   ],
   "source": [
    "#Printing keys of Student Dictionary\n",
    "Student.keys()"
   ]
  },
  {
   "cell_type": "code",
   "execution_count": 281,
   "id": "7600f550",
   "metadata": {},
   "outputs": [
    {
     "data": {
      "text/plain": [
       "['first_name',\n",
       " 'last_name',\n",
       " 'gender',\n",
       " 'age',\n",
       " 'marital status',\n",
       " 'skills',\n",
       " 'country',\n",
       " 'city',\n",
       " 'address']"
      ]
     },
     "execution_count": 281,
     "metadata": {},
     "output_type": "execute_result"
    }
   ],
   "source": [
    "#Printing keys of Student Dictionary as list\n",
    "list(Student.keys())"
   ]
  },
  {
   "cell_type": "code",
   "execution_count": 282,
   "id": "4b7018a2",
   "metadata": {},
   "outputs": [
    {
     "data": {
      "text/plain": [
       "['', '', '', '', '', ['Python', 'ML'], '', '', '']"
      ]
     },
     "execution_count": 282,
     "metadata": {},
     "output_type": "execute_result"
    }
   ],
   "source": [
    "#Printing values of Student Dictionary as list\n",
    "list(Student.values())"
   ]
  },
  {
   "cell_type": "code",
   "execution_count": null,
   "id": "3cbd7dde",
   "metadata": {},
   "outputs": [],
   "source": []
  },
  {
   "cell_type": "code",
   "execution_count": 283,
   "id": "8ea0966d",
   "metadata": {},
   "outputs": [],
   "source": [
    "#Creating a Sisters and Brothers tuples\n",
    "Sisters = ('Pooja','Shruti','Samyuktha','kriti')\n",
    "Brothers = ('Mahesh','Vijay','Akhil','Balakrishna')"
   ]
  },
  {
   "cell_type": "code",
   "execution_count": 284,
   "id": "7f7448dc",
   "metadata": {},
   "outputs": [
    {
     "data": {
      "text/plain": [
       "('Mahesh',\n",
       " 'Vijay',\n",
       " 'Akhil',\n",
       " 'Balakrishna',\n",
       " 'Pooja',\n",
       " 'Shruti',\n",
       " 'Samyuktha',\n",
       " 'kriti')"
      ]
     },
     "execution_count": 284,
     "metadata": {},
     "output_type": "execute_result"
    }
   ],
   "source": [
    "#Concatinating Sisters and Brothers tuples into a one tuple name it as siblings\n",
    "Siblings = Brothers + Sisters\n",
    "Siblings"
   ]
  },
  {
   "cell_type": "code",
   "execution_count": 285,
   "id": "67916d0f",
   "metadata": {},
   "outputs": [
    {
     "data": {
      "text/plain": [
       "8"
      ]
     },
     "execution_count": 285,
     "metadata": {},
     "output_type": "execute_result"
    }
   ],
   "source": [
    "#Length of Sibilings tuple\n",
    "len(Siblings)"
   ]
  },
  {
   "cell_type": "code",
   "execution_count": 286,
   "id": "ea7cc1bb",
   "metadata": {},
   "outputs": [
    {
     "ename": "AttributeError",
     "evalue": "'tuple' object has no attribute 'append'",
     "output_type": "error",
     "traceback": [
      "\u001b[1;31m---------------------------------------------------------------------------\u001b[0m",
      "\u001b[1;31mAttributeError\u001b[0m                            Traceback (most recent call last)",
      "Input \u001b[1;32mIn [286]\u001b[0m, in \u001b[0;36m<cell line: 2>\u001b[1;34m()\u001b[0m\n\u001b[0;32m      1\u001b[0m \u001b[38;5;66;03m#Modifying Siblings Tuple\u001b[39;00m\n\u001b[1;32m----> 2\u001b[0m \u001b[43mSiblings\u001b[49m\u001b[38;5;241;43m.\u001b[39;49m\u001b[43mappend\u001b[49m(\u001b[38;5;124m'\u001b[39m\u001b[38;5;124mKrishna\u001b[39m\u001b[38;5;124m'\u001b[39m,\u001b[38;5;124m'\u001b[39m\u001b[38;5;124mIndiramma\u001b[39m\u001b[38;5;124m'\u001b[39m)\n",
      "\u001b[1;31mAttributeError\u001b[0m: 'tuple' object has no attribute 'append'"
     ]
    }
   ],
   "source": [
    "#Modifying Siblings Tuple\n",
    "Siblings.append('Krishna','Indiramma')"
   ]
  },
  {
   "cell_type": "code",
   "execution_count": 287,
   "id": "bbb43482",
   "metadata": {},
   "outputs": [
    {
     "data": {
      "text/plain": [
       "['Mahesh',\n",
       " 'Vijay',\n",
       " 'Akhil',\n",
       " 'Balakrishna',\n",
       " 'Pooja',\n",
       " 'Shruti',\n",
       " 'Samyuktha',\n",
       " 'kriti']"
      ]
     },
     "execution_count": 287,
     "metadata": {},
     "output_type": "execute_result"
    }
   ],
   "source": [
    "#As tuples are unchangables directly, but we can update the tuple by converting tuples into a list\n",
    "Change_tuple = list(Siblings)\n",
    "Change_tuple\n"
   ]
  },
  {
   "cell_type": "code",
   "execution_count": 288,
   "id": "e3be513a",
   "metadata": {},
   "outputs": [
    {
     "data": {
      "text/plain": [
       "['Mahesh',\n",
       " 'Vijay',\n",
       " 'Akhil',\n",
       " 'Balakrishna',\n",
       " 'Pooja',\n",
       " 'Shruti',\n",
       " 'Samyuktha',\n",
       " 'kriti',\n",
       " 'Krishna',\n",
       " 'Indira']"
      ]
     },
     "execution_count": 288,
     "metadata": {},
     "output_type": "execute_result"
    }
   ],
   "source": [
    "Change_tuple.extend(['Krishna','Indira'])\n",
    "Change_tuple"
   ]
  },
  {
   "cell_type": "code",
   "execution_count": 289,
   "id": "1961afc3",
   "metadata": {},
   "outputs": [
    {
     "data": {
      "text/plain": [
       "('Mahesh',\n",
       " 'Vijay',\n",
       " 'Akhil',\n",
       " 'Balakrishna',\n",
       " 'Pooja',\n",
       " 'Shruti',\n",
       " 'Samyuktha',\n",
       " 'kriti',\n",
       " 'Krishna',\n",
       " 'Indira')"
      ]
     },
     "execution_count": 289,
     "metadata": {},
     "output_type": "execute_result"
    }
   ],
   "source": [
    "family_members = tuple(Change_tuple)\n",
    "family_members"
   ]
  },
  {
   "cell_type": "code",
   "execution_count": null,
   "id": "9dde76fe",
   "metadata": {},
   "outputs": [],
   "source": []
  },
  {
   "cell_type": "code",
   "execution_count": 290,
   "id": "0b162311",
   "metadata": {},
   "outputs": [
    {
     "data": {
      "text/plain": [
       "7"
      ]
     },
     "execution_count": 290,
     "metadata": {},
     "output_type": "execute_result"
    }
   ],
   "source": [
    "#Creating a sets it_companies, A, B, age\n",
    "it_companies = {'Facebook','Google','Microsoft','Apple','IBM','Oracle','Amazon'}\n",
    "A = {19,22,24,20,25,26}\n",
    "B = {19,22,20,25,26,24,28,27}\n",
    "age = [22,19,24,25,26,24,25,24]\n",
    "\n",
    "#Length of set it_companies\n",
    "len(it_companies)"
   ]
  },
  {
   "cell_type": "code",
   "execution_count": 291,
   "id": "87e1a314",
   "metadata": {},
   "outputs": [
    {
     "data": {
      "text/plain": [
       "{'Amazon',\n",
       " 'Apple',\n",
       " 'Facebook',\n",
       " 'Google',\n",
       " 'IBM',\n",
       " 'Microsoft',\n",
       " 'Oracle',\n",
       " 'Twitter'}"
      ]
     },
     "execution_count": 291,
     "metadata": {},
     "output_type": "execute_result"
    }
   ],
   "source": [
    "#Adding 'twitter' to set it_companies\n",
    "it_companies.add(\"Twitter\")\n",
    "it_companies"
   ]
  },
  {
   "cell_type": "code",
   "execution_count": 292,
   "id": "dbaddd55",
   "metadata": {},
   "outputs": [
    {
     "data": {
      "text/plain": [
       "{'Amazon',\n",
       " 'Apple',\n",
       " 'Facebook',\n",
       " 'Google',\n",
       " 'IBM',\n",
       " 'Microsoft',\n",
       " 'Oracle',\n",
       " 'TCS',\n",
       " 'Twitter',\n",
       " 'Wipro'}"
      ]
     },
     "execution_count": 292,
     "metadata": {},
     "output_type": "execute_result"
    }
   ],
   "source": [
    "#Insert mutliple values into a set\n",
    "it_companies.update(['TCS','Wipro'])\n",
    "it_companies"
   ]
  },
  {
   "cell_type": "code",
   "execution_count": 293,
   "id": "1d4564c4",
   "metadata": {},
   "outputs": [
    {
     "data": {
      "text/plain": [
       "{'Amazon',\n",
       " 'Apple',\n",
       " 'Facebook',\n",
       " 'Google',\n",
       " 'IBM',\n",
       " 'Microsoft',\n",
       " 'Oracle',\n",
       " 'TCS',\n",
       " 'Twitter'}"
      ]
     },
     "execution_count": 293,
     "metadata": {},
     "output_type": "execute_result"
    }
   ],
   "source": [
    "#remove items from a set\n",
    "it_companies.remove('Wipro')\n",
    "it_companies"
   ]
  },
  {
   "cell_type": "code",
   "execution_count": 294,
   "id": "dc881121",
   "metadata": {},
   "outputs": [
    {
     "data": {
      "text/plain": [
       "{19, 20, 22, 24, 25, 26, 27, 28}"
      ]
     },
     "execution_count": 294,
     "metadata": {},
     "output_type": "execute_result"
    }
   ],
   "source": [
    "#Joining two sets\n",
    "C = A.union(B) #Joins two sets A and B and also removes duplicate items\n",
    "C"
   ]
  },
  {
   "cell_type": "code",
   "execution_count": 295,
   "id": "78979588",
   "metadata": {},
   "outputs": [
    {
     "data": {
      "text/plain": [
       "{19, 20, 22, 24, 25, 26}"
      ]
     },
     "execution_count": 295,
     "metadata": {},
     "output_type": "execute_result"
    }
   ],
   "source": [
    "#Intersecting two sets\n",
    "D = A.intersection(B) #Intersection will results common items b/w the two sets A and B\n",
    "D"
   ]
  },
  {
   "cell_type": "code",
   "execution_count": 296,
   "id": "7032c055",
   "metadata": {},
   "outputs": [
    {
     "data": {
      "text/plain": [
       "True"
      ]
     },
     "execution_count": 296,
     "metadata": {},
     "output_type": "execute_result"
    }
   ],
   "source": [
    "#Is A is subset of B\n",
    "A.issubset(B) #issubset function checks if all items in A present in B, if true then A is subset of B otherwise not."
   ]
  },
  {
   "cell_type": "code",
   "execution_count": 297,
   "id": "d9f45d16",
   "metadata": {},
   "outputs": [
    {
     "data": {
      "text/plain": [
       "False"
      ]
     },
     "execution_count": 297,
     "metadata": {},
     "output_type": "execute_result"
    }
   ],
   "source": [
    "#are A and B disjoint sets\n",
    "A.isdisjoint(B) #isdisjoint function checks if any item in set A present in B, if true not disjoint otherwise disjoint"
   ]
  },
  {
   "cell_type": "code",
   "execution_count": 298,
   "id": "2b2cc265",
   "metadata": {},
   "outputs": [
    {
     "data": {
      "text/plain": [
       "{19, 20, 22, 24, 25, 26, 27, 28}"
      ]
     },
     "execution_count": 298,
     "metadata": {},
     "output_type": "execute_result"
    }
   ],
   "source": [
    "#Insert one set items into another\n",
    "A.update(B) #Insert items from set B into set A\n",
    "A"
   ]
  },
  {
   "cell_type": "code",
   "execution_count": 299,
   "id": "f9883589",
   "metadata": {},
   "outputs": [
    {
     "data": {
      "text/plain": [
       "{19, 20, 22, 24, 25, 26, 27, 28}"
      ]
     },
     "execution_count": 299,
     "metadata": {},
     "output_type": "execute_result"
    }
   ],
   "source": [
    "B.update(A) #Insert items from set A into setB\n",
    "B"
   ]
  },
  {
   "cell_type": "code",
   "execution_count": 300,
   "id": "f5de07d0",
   "metadata": {},
   "outputs": [
    {
     "data": {
      "text/plain": [
       "{19, 20, 22, 24, 25, 26, 27, 28}"
      ]
     },
     "execution_count": 300,
     "metadata": {},
     "output_type": "execute_result"
    }
   ],
   "source": [
    "#Symmetric difference between two sets A and B\n",
    "A.symmetric_difference(B)\n",
    "A"
   ]
  },
  {
   "cell_type": "code",
   "execution_count": 301,
   "id": "aa90efb7",
   "metadata": {},
   "outputs": [],
   "source": [
    "#Deleting the sets completely\n",
    "A.clear()\n",
    "B.clear()\n",
    "it_companies.clear()"
   ]
  },
  {
   "cell_type": "code",
   "execution_count": 302,
   "id": "d732614a",
   "metadata": {},
   "outputs": [
    {
     "data": {
      "text/plain": [
       "[22, 19, 24, 25, 26, 24, 25, 24]"
      ]
     },
     "execution_count": 302,
     "metadata": {},
     "output_type": "execute_result"
    }
   ],
   "source": [
    "age"
   ]
  },
  {
   "cell_type": "code",
   "execution_count": 303,
   "id": "1cee90b6",
   "metadata": {},
   "outputs": [
    {
     "data": {
      "text/plain": [
       "{19, 22, 24, 25, 26}"
      ]
     },
     "execution_count": 303,
     "metadata": {},
     "output_type": "execute_result"
    }
   ],
   "source": [
    "#Converting a list age to a set\n",
    "sage = set(age)\n",
    "sage"
   ]
  },
  {
   "cell_type": "code",
   "execution_count": 304,
   "id": "7030705b",
   "metadata": {},
   "outputs": [
    {
     "data": {
      "text/plain": [
       "False"
      ]
     },
     "execution_count": 304,
     "metadata": {},
     "output_type": "execute_result"
    }
   ],
   "source": [
    "#comparing the lengths of age and sage\n",
    "len(age) == len(sage)"
   ]
  },
  {
   "cell_type": "code",
   "execution_count": null,
   "id": "89355696",
   "metadata": {},
   "outputs": [],
   "source": []
  },
  {
   "cell_type": "code",
   "execution_count": 317,
   "id": "7fed5698",
   "metadata": {},
   "outputs": [
    {
     "data": {
      "text/plain": [
       "2826.0"
      ]
     },
     "execution_count": 317,
     "metadata": {},
     "output_type": "execute_result"
    }
   ],
   "source": [
    "#calculating area of circle\n",
    "ra = 30\n",
    "PI = 3.14\n",
    "_area_of_circle = PI * ra * ra\n",
    "_area_of_circle"
   ]
  },
  {
   "cell_type": "code",
   "execution_count": 318,
   "id": "a4a133c7",
   "metadata": {},
   "outputs": [
    {
     "data": {
      "text/plain": [
       "188.4"
      ]
     },
     "execution_count": 318,
     "metadata": {},
     "output_type": "execute_result"
    }
   ],
   "source": [
    "#calculating circumference of circle\n",
    "_circum_of_circle = 2 * PI * ra\n",
    "_circum_of_circle"
   ]
  },
  {
   "cell_type": "code",
   "execution_count": 319,
   "id": "943f3e2a",
   "metadata": {},
   "outputs": [
    {
     "name": "stdout",
     "output_type": "stream",
     "text": [
      "Enter radius30\n"
     ]
    },
    {
     "data": {
      "text/plain": [
       "2826.0"
      ]
     },
     "execution_count": 319,
     "metadata": {},
     "output_type": "execute_result"
    }
   ],
   "source": [
    "#claculate area by taking radius as user Input\n",
    "r = float(input(\"Enter radius\"))\n",
    "area = PI * r * r \n",
    "area"
   ]
  },
  {
   "cell_type": "code",
   "execution_count": null,
   "id": "c385c199",
   "metadata": {},
   "outputs": [],
   "source": []
  },
  {
   "cell_type": "code",
   "execution_count": 308,
   "id": "27766343",
   "metadata": {},
   "outputs": [
    {
     "data": {
      "text/plain": [
       "10"
      ]
     },
     "execution_count": 308,
     "metadata": {},
     "output_type": "execute_result"
    }
   ],
   "source": [
    "#Unique words in a sentence\n",
    "A = \"I am a teacher and I love to inspire and teach people\"\n",
    "B = set(A.split(\" \"))\n",
    "len(B)"
   ]
  },
  {
   "cell_type": "code",
   "execution_count": null,
   "id": "ac02e0d6",
   "metadata": {},
   "outputs": [],
   "source": []
  },
  {
   "cell_type": "code",
   "execution_count": 309,
   "id": "9fbb5272",
   "metadata": {},
   "outputs": [
    {
     "name": "stdout",
     "output_type": "stream",
     "text": [
      "Name\tAge\tCountry\tcity\n",
      "Asabench\t250\tFinland\tHelsinki\n"
     ]
    }
   ],
   "source": [
    "#tab escaping sequence\n",
    "print(\"Name\\tAge\\tCountry\\tcity\\nAsabench\\t250\\tFinland\\tHelsinki\")"
   ]
  },
  {
   "cell_type": "code",
   "execution_count": null,
   "id": "42c60191",
   "metadata": {},
   "outputs": [],
   "source": []
  },
  {
   "cell_type": "code",
   "execution_count": 320,
   "id": "3948af65",
   "metadata": {},
   "outputs": [
    {
     "name": "stdout",
     "output_type": "stream",
     "text": [
      "radius = 10\n",
      "area = 3.14 * radius ** 2\n",
      "\"The area of a circle with radius 10 is 314.0 meter square.\"\n"
     ]
    }
   ],
   "source": [
    "#String formatting\n",
    "print(\"radius = {radius}\".format(radius = 10))\n",
    "print(\"area = {PI} * radius ** 2\".format(PI = 3.14))\n",
    "print(\"\\\"The area of a circle with radius {radius} is {ara} meter square.\"\"\\\"\".format(radius = 10, ara = 3.14 * radius **2))"
   ]
  },
  {
   "cell_type": "code",
   "execution_count": null,
   "id": "e7df4db4",
   "metadata": {},
   "outputs": [],
   "source": []
  },
  {
   "cell_type": "code",
   "execution_count": 354,
   "id": "a907b3a0",
   "metadata": {},
   "outputs": [
    {
     "name": "stdout",
     "output_type": "stream",
     "text": [
      "Enter list size:4\n",
      "Enter weights(lbs) of N students150\n",
      "Enter weights(lbs) of N students155\n",
      "Enter weights(lbs) of N students145\n",
      "Enter weights(lbs) of N students148\n"
     ]
    },
    {
     "data": {
      "text/plain": [
       "[68.02721088435374, 70.29478458049887, 65.75963718820861, 67.12018140589569]"
      ]
     },
     "execution_count": 354,
     "metadata": {},
     "output_type": "execute_result"
    }
   ],
   "source": [
    "lbs= []\n",
    "n = int(input(\"Enter list size:\"))\n",
    "for i in range(n):\n",
    "    ele = int(input(\"Enter weights(lbs) of N students\"))\n",
    "    lbs.append(ele)\n",
    "for i in range(n):\n",
    "    kgs[i] = lbs[i]/2.205\n",
    "kgs\n",
    "    "
   ]
  },
  {
   "cell_type": "code",
   "execution_count": 355,
   "id": "660f0328",
   "metadata": {},
   "outputs": [
    {
     "data": {
      "text/plain": [
       "[150, 155, 145, 148]"
      ]
     },
     "execution_count": 355,
     "metadata": {},
     "output_type": "execute_result"
    }
   ],
   "source": [
    "lbs"
   ]
  },
  {
   "cell_type": "code",
   "execution_count": 356,
   "id": "ddc59bdb",
   "metadata": {},
   "outputs": [
    {
     "data": {
      "text/plain": [
       "[68.02721088435374, 70.29478458049887, 65.75963718820861, 67.12018140589569]"
      ]
     },
     "execution_count": 356,
     "metadata": {},
     "output_type": "execute_result"
    }
   ],
   "source": [
    "kgs"
   ]
  },
  {
   "cell_type": "code",
   "execution_count": null,
   "id": "abc679cd",
   "metadata": {},
   "outputs": [],
   "source": []
  },
  {
   "cell_type": "code",
   "execution_count": null,
   "id": "c4db4c63",
   "metadata": {},
   "outputs": [],
   "source": []
  }
 ],
 "metadata": {
  "kernelspec": {
   "display_name": "Python 3 (ipykernel)",
   "language": "python",
   "name": "python3"
  },
  "language_info": {
   "codemirror_mode": {
    "name": "ipython",
    "version": 3
   },
   "file_extension": ".py",
   "mimetype": "text/x-python",
   "name": "python",
   "nbconvert_exporter": "python",
   "pygments_lexer": "ipython3",
   "version": "3.9.12"
  }
 },
 "nbformat": 4,
 "nbformat_minor": 5
}
